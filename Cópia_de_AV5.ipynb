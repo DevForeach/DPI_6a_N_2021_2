{
  "nbformat": 4,
  "nbformat_minor": 0,
  "metadata": {
    "colab": {
      "provenance": [],
      "include_colab_link": true
    },
    "kernelspec": {
      "name": "python3",
      "display_name": "Python 3"
    },
    "language_info": {
      "name": "python"
    }
  },
  "cells": [
    {
      "cell_type": "markdown",
      "metadata": {
        "id": "view-in-github",
        "colab_type": "text"
      },
      "source": [
        "<a href=\"https://colab.research.google.com/github/DevForeach/DPI_6a_N_2021_2/blob/main/C%C3%B3pia_de_AV5.ipynb\" target=\"_parent\"><img src=\"https://colab.research.google.com/assets/colab-badge.svg\" alt=\"Open In Colab\"/></a>"
      ]
    },
    {
      "cell_type": "markdown",
      "source": [
        "Nome \n",
        "RA:"
      ],
      "metadata": {
        "id": "YuFldSOuyiRI"
      }
    },
    {
      "cell_type": "code",
      "execution_count": null,
      "metadata": {
        "id": "fIfRFo-35J67"
      },
      "outputs": [],
      "source": [
        "# Conexão com o drive\n",
        "from google.colab import drive\n",
        "drive.mount('/content/drive')"
      ]
    },
    {
      "cell_type": "code",
      "source": [
        "# Importações necessárias\n",
        "\n",
        "# cálculos numéricos\n",
        "import numpy as np \n",
        "\n",
        "# ler, agrupar, organizar, explorar, filtrar, manipular e combinar dados\n",
        "# suporta variados formatos, como CSV, Excel e JSON e que possibilita \n",
        "# misturar diferentes bancos de dados simultaneamente\n",
        "import pandas as pd \n",
        "\n",
        "# criação de gráficos\n",
        "import seaborn as sns \n",
        "import matplotlib.pyplot as plt \n",
        "\n",
        "# lidar com grandes quantidades de números, lidar com estatísticas, integração numérica, \n",
        "# solução de equações diferenciais, otimização, integração, álgebra linear, funções especiais, \n",
        "# polinômios\n",
        "from scipy import stats \n",
        "\n",
        "# aplicação prática de machine learning\n",
        "from sklearn.preprocessing import StandardScaler \n",
        "from sklearn.linear_model import LinearRegression\n",
        "import statsmodels.api as sm\n",
        "from statsmodels.formula.api import ols\n",
        "\n",
        "# Medidas de avaliação\n",
        "from sklearn import metrics\n",
        "# from sklearn.metrics import mean_squared_error, r2_score, confusion_matrix\n",
        "\n",
        "# Separação dos arquivos treino, teste\n",
        "from sklearn.model_selection import train_test_split\n",
        "from sklearn.cluster import KMeans\n",
        "from sklearn.metrics import silhouette_score\n",
        "from yellowbrick.cluster import KElbowVisualizer\n",
        "\n",
        "# Visualizar todas as colunas e linhas\n",
        "pd.set_option('display.max_columns', None)\n",
        "pd.set_option('display.max_rows', None)"
      ],
      "metadata": {
        "id": "xiWlIIBX2CTI"
      },
      "execution_count": null,
      "outputs": []
    },
    {
      "cell_type": "code",
      "source": [
        "from sklearn.cluster import KMeans\n",
        "from sklearn.metrics import silhouette_score\n",
        "from yellowbrick.cluster import KElbowVisualizer"
      ],
      "metadata": {
        "id": "XGexSQDx5Q5p"
      },
      "execution_count": null,
      "outputs": []
    },
    {
      "cell_type": "code",
      "source": [
        "# Lendo o csv e transformando em dataframe (df)\n",
        "df = pd.read_csv('/content/drive/MyDrive/igm_modificado.csv')\n",
        "\n",
        "# Print do número de linhas e colunas do df\n",
        "print(df.shape)\n",
        "\n",
        "# Visualizar 5 linhas aleatórias do df\n",
        "df.sample(5)"
      ],
      "metadata": {
        "id": "owOoXkPR5RcV"
      },
      "execution_count": null,
      "outputs": []
    },
    {
      "cell_type": "code",
      "source": [
        "df.info()"
      ],
      "metadata": {
        "id": "_EYlRQXZ5jlr"
      },
      "execution_count": null,
      "outputs": []
    },
    {
      "cell_type": "code",
      "source": [
        "df.describe()"
      ],
      "metadata": {
        "id": "1vtiuIqA5lRs"
      },
      "execution_count": null,
      "outputs": []
    },
    {
      "cell_type": "code",
      "source": [
        "df_CO = df[df['regiao'] == 'CENTRO-OESTE']\n",
        "df_SD = df[df['regiao'] == 'SUDESTE']\n",
        "df_SU = df[df['regiao'] == 'SUL']\n",
        "df_NO = df[df['regiao'] == 'NORDESTE']\n",
        "df_N = df[df['regiao'] == 'NORTE']"
      ],
      "metadata": {
        "id": "AUDZs2on90PC"
      },
      "execution_count": null,
      "outputs": []
    },
    {
      "cell_type": "code",
      "source": [
        "### ESCOLHA DAS VARIAVAVEIS"
      ],
      "metadata": {
        "id": "U97dlnjPb21V"
      },
      "execution_count": null,
      "outputs": []
    },
    {
      "cell_type": "code",
      "source": [
        "### Escolhemos as variáveis 'exp_vida' e 'gasto_pc_saude' Para verificar se o gasto com a saude tem relação direta com a expectativa de vida."
      ],
      "metadata": {
        "id": "UcLeS55Qb46g"
      },
      "execution_count": null,
      "outputs": []
    },
    {
      "cell_type": "code",
      "source": [
        "df_new = df[['exp_vida','gasto_pc_saude','pib']]"
      ],
      "metadata": {
        "id": "AiUhQ8ZcN0k1"
      },
      "execution_count": null,
      "outputs": []
    },
    {
      "cell_type": "code",
      "source": [
        "df_Nt = df_N [['exp_vida','gasto_pc_saude','pib']]"
      ],
      "metadata": {
        "id": "mdwF77AuQTCA"
      },
      "execution_count": null,
      "outputs": []
    },
    {
      "cell_type": "code",
      "source": [
        "df_Nt['exp_vida'].fillna(df_Nt['exp_vida'].median(),inplace=True)\n",
        "df_Nt['exp_vida'].value_counts(dropna=False)"
      ],
      "metadata": {
        "id": "-uMKlV7ZQMJh"
      },
      "execution_count": null,
      "outputs": []
    },
    {
      "cell_type": "code",
      "source": [
        "df_Nt['gasto_pc_saude'].fillna(df_Nt['gasto_pc_saude'].median(),inplace=True)\n",
        "df_Nt['gasto_pc_saude'].value_counts(dropna=False)"
      ],
      "metadata": {
        "id": "LjDMv1oJVE0r"
      },
      "execution_count": null,
      "outputs": []
    },
    {
      "cell_type": "code",
      "source": [
        "df_new['exp_vida'].fillna(df_new['exp_vida'].median(),inplace=True)\n",
        "df_new['exp_vida'].value_counts(dropna=False)"
      ],
      "metadata": {
        "id": "i_gz69t8PLDP"
      },
      "execution_count": null,
      "outputs": []
    },
    {
      "cell_type": "code",
      "source": [
        "df_new['gasto_pc_saude'].fillna(df_new['gasto_pc_saude'].median(),inplace=True)\n",
        "df_new['gasto_pc_saude'].value_counts(dropna=False)"
      ],
      "metadata": {
        "id": "LhYx4HojVFM8"
      },
      "execution_count": null,
      "outputs": []
    },
    {
      "cell_type": "code",
      "source": [
        "df_new.info()"
      ],
      "metadata": {
        "id": "rqJQgNjdU76z"
      },
      "execution_count": null,
      "outputs": []
    },
    {
      "cell_type": "code",
      "source": [
        "df_Nt.info()"
      ],
      "metadata": {
        "id": "WRS-9Vc8VYLo"
      },
      "execution_count": null,
      "outputs": []
    },
    {
      "cell_type": "code",
      "source": [
        "### REGIÃO NORTE ###"
      ],
      "metadata": {
        "id": "SBtHFoRiSQcS"
      },
      "execution_count": null,
      "outputs": []
    },
    {
      "cell_type": "code",
      "source": [
        "### gráfico comparando as variáveis ###"
      ],
      "metadata": {
        "id": "TR89CQmAzdXO"
      },
      "execution_count": null,
      "outputs": []
    },
    {
      "cell_type": "code",
      "source": [
        "\n",
        "sns.scatterplot(data=df_SU, x=\"exp_vida\", y=\"gasto_pc_saude\")"
      ],
      "metadata": {
        "id": "rb5T1svN9zSF"
      },
      "execution_count": null,
      "outputs": []
    },
    {
      "cell_type": "code",
      "source": [
        "\n",
        "sns.scatterplot(data=df_SU, x=\"exp_vida\", y=\"pib\")"
      ],
      "metadata": {
        "id": "EjxnX1V9AeKz"
      },
      "execution_count": null,
      "outputs": []
    },
    {
      "cell_type": "code",
      "source": [
        "#VERIFICANDO CORRELAÇÃO DAS VARIÁVEIS\n",
        "df_SU_menor = df_SU[['exp_vida','gasto_pc_saude','pib']]\n",
        "df_SU_menor.corr()"
      ],
      "metadata": {
        "id": "BcQhOuJ39zGl"
      },
      "execution_count": null,
      "outputs": []
    },
    {
      "cell_type": "code",
      "source": [
        "### REGIÃO SUDESTE ###"
      ],
      "metadata": {
        "id": "drJBSImMzRrm"
      },
      "execution_count": null,
      "outputs": []
    },
    {
      "cell_type": "code",
      "source": [
        "\n",
        "sns.scatterplot(data=df_SD, x=\"exp_vida\", y=\"gasto_pc_saude\")"
      ],
      "metadata": {
        "id": "E6au_Y3dzRro"
      },
      "execution_count": null,
      "outputs": []
    },
    {
      "cell_type": "code",
      "source": [
        "\n",
        "sns.scatterplot(data=df_SD, x=\"gasto_pc_saude\", y=\"pib\")"
      ],
      "metadata": {
        "id": "NXXcChTSzRrp"
      },
      "execution_count": null,
      "outputs": []
    },
    {
      "cell_type": "code",
      "source": [
        "#VERIFICANDO A CORRELAÇÃO ENTRE AS VARIÁVEIS\n",
        "df_SD_menor = df_SD[['exp_vida','gasto_pc_saude','pib']]\n",
        "df_SD_menor.corr()"
      ],
      "metadata": {
        "id": "aEZWl3WbzRrp"
      },
      "execution_count": null,
      "outputs": []
    },
    {
      "cell_type": "code",
      "source": [
        "### REGIÃO NORDESTE ###"
      ],
      "metadata": {
        "id": "jp2ZoMTkzSNL"
      },
      "execution_count": null,
      "outputs": []
    },
    {
      "cell_type": "code",
      "source": [
        "\n",
        "sns.scatterplot(data=df_NO, x=\"exp_vida\", y=\"gasto_pc_saude\")"
      ],
      "metadata": {
        "id": "5aVkt_oBzSNM"
      },
      "execution_count": null,
      "outputs": []
    },
    {
      "cell_type": "code",
      "source": [
        "\n",
        "sns.scatterplot(data=df_NO, x=\"exp_vida\", y=\"pib\")"
      ],
      "metadata": {
        "id": "7XaSGDSnzSNM"
      },
      "execution_count": null,
      "outputs": []
    },
    {
      "cell_type": "code",
      "source": [
        "#VERIFICANDO A CORRELAÇÃO\n",
        "df_NO_menor = df_NO[['exp_vida','gasto_pc_saude','pib']]\n",
        "df_NO_menor.corr()"
      ],
      "metadata": {
        "id": "2bh8wEcUzSNN"
      },
      "execution_count": null,
      "outputs": []
    },
    {
      "cell_type": "code",
      "source": [
        "### REGIÃO CENTRO-OESTE ###"
      ],
      "metadata": {
        "id": "1gMnmCSlzSnj"
      },
      "execution_count": null,
      "outputs": []
    },
    {
      "cell_type": "code",
      "source": [
        "\n",
        "sns.scatterplot(data=df_CO, x=\"exp_vida\", y=\"gasto_pc_saude\")"
      ],
      "metadata": {
        "id": "_28Z8CqezSnk"
      },
      "execution_count": null,
      "outputs": []
    },
    {
      "cell_type": "code",
      "source": [
        "\n",
        "sns.scatterplot(data=df_CO, x=\"exp_vida\", y=\"pib\")"
      ],
      "metadata": {
        "id": "8YrwARn2zSnk"
      },
      "execution_count": null,
      "outputs": []
    },
    {
      "cell_type": "code",
      "source": [
        "#VERIFICANDO A CORRELAÇÃO\n",
        "df_CO_menor = df_CO[['exp_vida','gasto_pc_saude','pib']]\n",
        "df_CO_menor.corr()"
      ],
      "metadata": {
        "id": "lD3RJehzzSnk"
      },
      "execution_count": null,
      "outputs": []
    },
    {
      "cell_type": "code",
      "source": [
        "## REGIÃO NORTE ###"
      ],
      "metadata": {
        "id": "0Y-QW5U9zTDc"
      },
      "execution_count": null,
      "outputs": []
    },
    {
      "cell_type": "code",
      "source": [
        "\n",
        "sns.scatterplot(data=df_N, x=\"exp_vida\", y=\"gasto_pc_saude\")"
      ],
      "metadata": {
        "id": "TqozexjrzTDe"
      },
      "execution_count": null,
      "outputs": []
    },
    {
      "cell_type": "code",
      "source": [
        "\n",
        "sns.scatterplot(data=df_N, x=\"exp_vida\", y=\"pib\")"
      ],
      "metadata": {
        "id": "KYk4ByqmzTDe"
      },
      "execution_count": null,
      "outputs": []
    },
    {
      "cell_type": "code",
      "source": [
        "#VERIFICANDO A CORRELAÇÃO \n",
        "df_N_menor = df_N[['exp_vida','gasto_pc_saude','pib']]\n",
        "df_N_menor.corr()"
      ],
      "metadata": {
        "id": "0gNJy7njzTDe"
      },
      "execution_count": null,
      "outputs": []
    },
    {
      "cell_type": "code",
      "source": [
        "## VERIFICANDO A PREVISÃO DO PIB DOS MUNICÍPIOS\n"
      ],
      "metadata": {
        "id": "B2xI8Oiy5zEG"
      },
      "execution_count": null,
      "outputs": []
    },
    {
      "cell_type": "code",
      "source": [
        "## ESCOLHEMOS AS DUAS VARIÁVEIS, PARA VERIFICAR SE O GASTO DO MUNICIPIO COM A EDUCAÇÃO ESTÁ RELACIONADO COM O TEMPO DE PERMANÊNCIA NA ESCOLA.\n"
      ],
      "metadata": {
        "id": "FznEg7TGjDMP"
      },
      "execution_count": null,
      "outputs": []
    },
    {
      "cell_type": "code",
      "source": [
        "# Criando x e y\n",
        "# Cria o dataset. Criamos em formato de array. O reshape cria em duas dimensões (uma coluna e várias linhas)\n",
        "x = np.array(df_new[['exp_vida','gasto_pc_saude']]) # variável independente x\n",
        "y = np.array(df_new['pib']) # variável dependente y"
      ],
      "metadata": {
        "id": "QOaImXNS1qGq"
      },
      "execution_count": null,
      "outputs": []
    },
    {
      "cell_type": "code",
      "source": [
        "# Separando os dados de Treino e Teste\n",
        "x_train, x_test, y_train, y_test = train_test_split(x, y, test_size=0.2, random_state=0)\n",
        "\n",
        "# Print do número de linhas e o número de colunas\n",
        "print(x_train.shape)\n",
        "print(x_test.shape)\n",
        "print(y_train.shape)\n",
        "print(y_test.shape)"
      ],
      "metadata": {
        "id": "zswgPaoq15fY"
      },
      "execution_count": null,
      "outputs": []
    },
    {
      "cell_type": "code",
      "source": [
        "# Cria o modelo de regressão linear e aplica o modelo (fit)\n",
        "modelo_1 = LinearRegression()\n",
        "\n",
        "# Treinando o Modelo\n",
        "modelo_1 = LinearRegression().fit(x_train,y_train)\n",
        "\n"
      ],
      "metadata": {
        "id": "Bb4PcGZv2RWY"
      },
      "execution_count": null,
      "outputs": []
    },
    {
      "cell_type": "code",
      "source": [
        "y_pred = modelo_1.predict(x_test)\n",
        "y_pred[10]"
      ],
      "metadata": {
        "id": "h9zYG6OS6Tuu"
      },
      "execution_count": null,
      "outputs": []
    },
    {
      "cell_type": "code",
      "source": [
        "# Criando um dataframe com os valores do teste (reais) e da previsão (preditos)\n",
        "df1=pd.DataFrame({'Real': y_test, 'Predicted':y_pred})\n",
        "\n",
        "# Formatando os valores preditos\n",
        "df1['Predicted'] = round(df1['Predicted'],3)\n",
        "\n",
        "# Criando uma razão entre o valor predito e o real para saber o quanto está próximo ou não do real\n",
        "df1['Razao'] = round(df1['Predicted']/df1['Real'],3)\n",
        "\n",
        "print(df1.shape)\n",
        "df1.head(15)"
      ],
      "metadata": {
        "id": "XE8nfmAQ6Z5Z"
      },
      "execution_count": null,
      "outputs": []
    },
    {
      "cell_type": "code",
      "source": [
        "##Cluster\n"
      ],
      "metadata": {
        "id": "cIPaVWNJCx9g"
      },
      "execution_count": null,
      "outputs": []
    },
    {
      "cell_type": "markdown",
      "source": [
        "fala sobre o modelo de metrica e quantos Cluster irar utilizar com base no modelos abaixo"
      ],
      "metadata": {
        "id": "0-cRPtBGWUib"
      }
    },
    {
      "cell_type": "code",
      "source": [
        "# Criando um df1 apenas com as colunas de exp_anos_estudo e gasto_pc_educacao\n",
        "df1 = df_new[['exp_vida', 'gasto_pc_saude']]\n",
        "x = df1.values\n",
        "df1.head(10)"
      ],
      "metadata": {
        "id": "x0NV7xtwCzfR"
      },
      "execution_count": null,
      "outputs": []
    },
    {
      "cell_type": "code",
      "source": [
        "# Matriz de correlação\n",
        "df1.corr()"
      ],
      "metadata": {
        "id": "HsS2gU6UDQvI"
      },
      "execution_count": null,
      "outputs": []
    },
    {
      "cell_type": "code",
      "source": [
        "# Método do cotovelo\n",
        "# Uma das métricas para encontrar o número de cluster\n",
        "# Para escolher o número 'certo' de clusters, o ponto de viragem da curva da soma das variâncias dentro do cluster em relação ao número de clusters é usado. \n",
        "# O primeiro ponto de inflexão da curva sugere o valor correto de 'k' para qualquer k > 0\n",
        "\n",
        "model = KMeans()\n",
        "visualizer = KElbowVisualizer(model, k=(2,30), timings= True)\n",
        "visualizer.fit(x)    \n",
        "visualizer.show()    "
      ],
      "metadata": {
        "id": "LquqSCoRDRKR"
      },
      "execution_count": null,
      "outputs": []
    },
    {
      "cell_type": "code",
      "source": [
        "# Método da silhueta\n",
        "# Uma das métricas para encontrar o número de cluster\n",
        "# Este método pode ser usado para encontrar o valor ótimo de 'k'. Essa pontuação está dentro da faixa de [-1,1]. \n",
        "# O valor de 'k' tendo a pontuação da silhueta mais próxima de 1 pode ser considerado como o número 'certo' de clusters.\n",
        "\n",
        "model = KMeans()\n",
        "visualizer = KElbowVisualizer(model, k=(2,30),metric='silhouette', timings= True)\n",
        "visualizer.fit(x)        \n",
        "visualizer.show()       "
      ],
      "metadata": {
        "id": "mLlfL3irECQw"
      },
      "execution_count": null,
      "outputs": []
    },
    {
      "cell_type": "code",
      "source": [
        "# Método de Calinski Harabasz\n",
        "# Um valor mais alto significa que os clusters são densos e bem separados, embora não haja um valor de corte \"aceitável\".\n",
        "\n",
        "model = KMeans()\n",
        "visualizer = KElbowVisualizer(model, k=(2,30),metric='calinski_harabasz', timings= True)\n",
        "visualizer.fit(x)        \n",
        "visualizer.show()        "
      ],
      "metadata": {
        "id": "1yMfSAyaEAQf"
      },
      "execution_count": null,
      "outputs": []
    },
    {
      "cell_type": "code",
      "execution_count": null,
      "metadata": {
        "id": "KJ4-fo3jsOGt"
      },
      "outputs": [],
      "source": [
        "###Criando um objeto com 4 cluster - definido de acordo com as métricas anteriores\n",
        "kmeans_final = KMeans(n_clusters=4,random_state=0)"
      ]
    },
    {
      "cell_type": "code",
      "execution_count": null,
      "metadata": {
        "id": "rnZC9eB3tdfc"
      },
      "outputs": [],
      "source": [
        "###### Ajustando o modelo\n",
        "kmeans_final.fit(x)"
      ]
    },
    {
      "cell_type": "code",
      "execution_count": null,
      "metadata": {
        "id": "ftgfBdwVtfCJ"
      },
      "outputs": [],
      "source": [
        "# Alocação dos clientes nos clusters\n",
        "cluster_pred = kmeans_final.predict(x)\n",
        "cluster_pred"
      ]
    },
    {
      "cell_type": "code",
      "source": [
        "# Transformando o array em dataframe\n",
        "cluster_df = pd.DataFrame(cluster_pred)\n",
        "\n",
        "# Mostra as 4 primeiras linhas\n",
        "cluster_df.head(4)"
      ],
      "metadata": {
        "id": "htgPv3olKKcT"
      },
      "execution_count": null,
      "outputs": []
    },
    {
      "cell_type": "code",
      "source": [
        "# Renomeando a coluna que tem nome \"1\" para \"Cluster\"\n",
        "cluster_df.rename(columns = {0:'Cluster'}, inplace = True)\n",
        "\n",
        "# Mostra as 4 primeiras linhas\n",
        "cluster_df.head(4)"
      ],
      "metadata": {
        "id": "FxmlrTgrLWdI"
      },
      "execution_count": null,
      "outputs": []
    },
    {
      "cell_type": "code",
      "source": [
        "# Frequência absoluta do número de clientes nos cluster'"
      ],
      "metadata": {
        "id": "keXQCzbEm_Ur"
      },
      "execution_count": null,
      "outputs": []
    },
    {
      "cell_type": "code",
      "source": [
        "cluster_df.Cluster.value_counts(dropna=False)"
      ],
      "metadata": {
        "id": "-prAcwyZMsMK"
      },
      "execution_count": null,
      "outputs": []
    },
    {
      "cell_type": "code",
      "source": [
        "cluster_df.Cluster.value_counts(dropna=False, normalize=True)"
      ],
      "metadata": {
        "id": "tbq7AfQ8-978"
      },
      "execution_count": null,
      "outputs": []
    },
    {
      "cell_type": "code",
      "execution_count": null,
      "metadata": {
        "id": "kpgRvvYwtg4K"
      },
      "outputs": [],
      "source": [
        "# Centróides de cada cluster\n",
        "cluster_centers = kmeans_final.cluster_centers_\n",
        "cluster_centers"
      ]
    },
    {
      "cell_type": "code",
      "execution_count": null,
      "metadata": {
        "id": "dak3gDoAtl0v"
      },
      "outputs": [],
      "source": [
        "# Gráfico dos centróides\n",
        "plt.scatter(cluster_centers[:,0], cluster_centers[:,1])\n",
        "plt.show()"
      ]
    },
    {
      "cell_type": "code",
      "execution_count": null,
      "metadata": {
        "id": "QzZ0h5EXtnbQ"
      },
      "outputs": [],
      "source": [
        "plt.figure(figsize=(10,8))\n",
        "plt.scatter(x[cluster_pred==0, 0], x[cluster_pred==0, 1],s=100, label='Cluster 1')\n",
        "plt.scatter(x[cluster_pred==1, 0], x[cluster_pred==1, 1],s=100, label='Cluster 2')\n",
        "plt.scatter(x[cluster_pred==2, 0], x[cluster_pred==2, 1],s=100, label='Cluster 3')\n",
        "plt.scatter(x[cluster_pred==3, 0], x[cluster_pred==3, 1],s=100, label='Cluster 4')\n",
        "plt.scatter(cluster_centers[:,0],cluster_centers[:,1], marker='+', s=200, c='black')\n",
        "plt.legend()\n",
        "plt.title('titulo')\n",
        "plt.xlabel('jornada_trabalho')\n",
        "plt.ylabel('gasto_pc_saude')\n",
        "plt.show()"
      ]
    },
    {
      "cell_type": "code",
      "source": [
        "#Cluster da região Sudeste"
      ],
      "metadata": {
        "id": "5LxoHXPOTPAF"
      },
      "execution_count": null,
      "outputs": []
    },
    {
      "cell_type": "markdown",
      "source": [
        "fala sobre o modelo de metrica e quantos Cluster irar utilizar com base no modelos abaixo"
      ],
      "metadata": {
        "id": "IjQpEWLsctZK"
      }
    },
    {
      "cell_type": "code",
      "source": [
        "# Criando um df1 apenas com as colunas de exp_anos_estudo e gasto_pc_educacao\n",
        "df2 = df_SD_new2[['jornada_trabalho', 'gasto_pc_saude']]\n",
        "x = df2.values\n",
        "df2.head(10)"
      ],
      "metadata": {
        "id": "NClojjCqIxaq"
      },
      "execution_count": null,
      "outputs": []
    },
    {
      "cell_type": "code",
      "source": [
        "# Matriz de correlação\n",
        "df2.corr()"
      ],
      "metadata": {
        "id": "qwNYoCmmIxaq"
      },
      "execution_count": null,
      "outputs": []
    },
    {
      "cell_type": "code",
      "source": [
        "# Método do cotovelo\n",
        "# Uma das métricas para encontrar o número de cluster\n",
        "# Para escolher o número 'certo' de clusters, o ponto de viragem da curva da soma das variâncias dentro do cluster em relação ao número de clusters é usado. \n",
        "# O primeiro ponto de inflexão da curva sugere o valor correto de 'k' para qualquer k > 0\n",
        "\n",
        "model = KMeans()\n",
        "visualizer = KElbowVisualizer(model, k=(2,30), timings= True)\n",
        "visualizer.fit(x)    \n",
        "visualizer.show()    "
      ],
      "metadata": {
        "id": "LbZKG_6rIxar"
      },
      "execution_count": null,
      "outputs": []
    },
    {
      "cell_type": "code",
      "source": [
        "# Método da silhueta\n",
        "# Uma das métricas para encontrar o número de cluster\n",
        "# Este método pode ser usado para encontrar o valor ótimo de 'k'. Essa pontuação está dentro da faixa de [-1,1]. \n",
        "# O valor de 'k' tendo a pontuação da silhueta mais próxima de 1 pode ser considerado como o número 'certo' de clusters.\n",
        "\n",
        "model = KMeans()\n",
        "visualizer = KElbowVisualizer(model, k=(2,30),metric='silhouette', timings= True)\n",
        "visualizer.fit(x)        \n",
        "visualizer.show()       "
      ],
      "metadata": {
        "id": "xppP_5GoIxar"
      },
      "execution_count": null,
      "outputs": []
    },
    {
      "cell_type": "code",
      "source": [
        "# Método de Calinski Harabasz\n",
        "# Um valor mais alto significa que os clusters são densos e bem separados, embora não haja um valor de corte \"aceitável\".\n",
        "\n",
        "model = KMeans()\n",
        "visualizer = KElbowVisualizer(model, k=(2,30),metric='calinski_harabasz', timings= True)\n",
        "visualizer.fit(x)        \n",
        "visualizer.show()        "
      ],
      "metadata": {
        "id": "5qC-3xJKIxar"
      },
      "execution_count": null,
      "outputs": []
    },
    {
      "cell_type": "code",
      "execution_count": null,
      "metadata": {
        "id": "qnAHX9lsIxar"
      },
      "outputs": [],
      "source": [
        "# Criando um objeto com 2 cluster - definido de acordo com as métricas anteriores\n",
        "kmeans_final = KMeans(n_clusters=2,random_state=0)"
      ]
    },
    {
      "cell_type": "code",
      "execution_count": null,
      "metadata": {
        "id": "t3PeBw83Ixas"
      },
      "outputs": [],
      "source": [
        "# Ajustando o modelo\n",
        "kmeans_final.fit(x)"
      ]
    },
    {
      "cell_type": "code",
      "execution_count": null,
      "metadata": {
        "id": "cQRU02VEIxas"
      },
      "outputs": [],
      "source": [
        "# Alocação dos clientes nos clusters\n",
        "cluster_pred = kmeans_final.predict(x)\n",
        "cluster_pred"
      ]
    },
    {
      "cell_type": "code",
      "source": [
        "# Transformando o array em dataframe\n",
        "cluster_df = pd.DataFrame(cluster_pred)\n",
        "\n",
        "# Mostra as 4 primeiras linhas\n",
        "cluster_df.head(4)"
      ],
      "metadata": {
        "id": "SejtRFXKIxas"
      },
      "execution_count": null,
      "outputs": []
    },
    {
      "cell_type": "code",
      "source": [
        "# Renomeando a coluna que tem nome \"0\" para \"Cluster\"\n",
        "cluster_df.rename(columns = {0:'Cluster'}, inplace = True)\n",
        "\n",
        "# Mostra as 4 primeiras linhas\n",
        "cluster_df.head(4)"
      ],
      "metadata": {
        "id": "E11AhOJJIxas"
      },
      "execution_count": null,
      "outputs": []
    },
    {
      "cell_type": "code",
      "source": [
        "# Frequência absoluta do número de clientes nos cluster'\n",
        "cluster_df.Cluster.value_counts(dropna=False)"
      ],
      "metadata": {
        "id": "WfIh5AsNIxas"
      },
      "execution_count": null,
      "outputs": []
    },
    {
      "cell_type": "code",
      "source": [
        "# Frequência absoluta do número de clientes nos cluster'\n",
        "cluster_df.Cluster.value_counts(dropna=False, normalize=True)"
      ],
      "metadata": {
        "id": "KcMohb6_Ixas"
      },
      "execution_count": null,
      "outputs": []
    },
    {
      "cell_type": "code",
      "execution_count": null,
      "metadata": {
        "id": "fzOT1AZcIxat"
      },
      "outputs": [],
      "source": [
        "# Centróides de cada cluster\n",
        "cluster_centers = kmeans_final.cluster_centers_\n",
        "cluster_centers"
      ]
    },
    {
      "cell_type": "code",
      "execution_count": null,
      "metadata": {
        "id": "-G6S4cJoIxat"
      },
      "outputs": [],
      "source": [
        "# Gráfico dos centróides\n",
        "plt.scatter(cluster_centers[:,0], cluster_centers[:,1])\n",
        "plt.show()"
      ]
    },
    {
      "cell_type": "code",
      "execution_count": null,
      "metadata": {
        "id": "mdzWXCIlIxat"
      },
      "outputs": [],
      "source": [
        "plt.figure(figsize=(10,8))\n",
        "plt.scatter(x[cluster_pred==0, 0], x[cluster_pred==0, 1],s=100, label='Cluster 1')\n",
        "plt.scatter(x[cluster_pred==1, 0], x[cluster_pred==1, 1],s=100, label='Cluster 2')\n",
        "# plt.scatter(x[cluster_pred==2, 0], x[cluster_pred==2, 1],s=100, label='Cluster 3')\n",
        "# plt.scatter(x[cluster_pred==3, 0], x[cluster_pred==3, 1],s=100, label='Cluster 4')\n",
        "# plt.scatter(x[cluster_pred==4, 0], x[cluster_pred==4, 1],s=100, label='Cluster 5')\n",
        "# plt.scatter(x[cluster_pred==5, 0], x[cluster_pred==5, 1],s=100, label='Cluster 6')\n",
        "plt.scatter(cluster_centers[:,0],cluster_centers[:,1], marker='+', s=200, c='black')\n",
        "plt.legend()\n",
        "plt.title('titulo')\n",
        "plt.xlabel('jornada_trabalho')\n",
        "plt.ylabel('gasto_pc_saude')\n",
        "plt.show()"
      ]
    }
  ]
}